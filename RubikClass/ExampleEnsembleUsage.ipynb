{
 "cells": [
  {
   "cell_type": "code",
   "execution_count": 1,
   "metadata": {},
   "outputs": [],
   "source": [
    "%matplotlib inline"
   ]
  },
  {
   "cell_type": "code",
   "execution_count": 2,
   "metadata": {},
   "outputs": [],
   "source": [
    "from PIL import Image\n",
    "from matplotlib import pyplot as plt\n",
    "import numpy as np"
   ]
  },
  {
   "cell_type": "code",
   "execution_count": 20,
   "metadata": {},
   "outputs": [],
   "source": [
    "scramble = \"[F': [U', R D2 R'] [R U2 R', D'] [U' R2 U F R2 F', L2]] [S', M'] M2 E2 S2\"\n",
    "scramble4 = \"[F': [U', R D2 R'] [R U2 R', D'] [U' R2 U F R2 F', L2]]\"\n",
    "scramble2 = \"F' R U R' U' R' F R x y' \"*5\n",
    "scramble3 = \"B F L R B' F' D' U' L R D U\"\n",
    "scramble5 = \"B L2 B' U2 B F2 U L U B U' R U' B F U' R D R B' U'\"\n",
    "scramble6 = \"U' F2 R' L' U' B R2 D B U' R2 L B2 D' B2 U F2 B2 U' L2 B2 L2\"\n",
    "scramble7 = \"B2 L R2 B2 F2 D2 U2 R' F2 D U2 B2 F2 L2 R2 U'\"\n",
    "scramble8 = \"U L' R' B2 U' R2 B L2 D' F2 L' R' U' \""
   ]
  },
  {
   "cell_type": "code",
   "execution_count": 4,
   "metadata": {},
   "outputs": [],
   "source": [
    "from StickerEnsemble import EnsembleStickerCube"
   ]
  },
  {
   "cell_type": "code",
   "execution_count": 5,
   "metadata": {},
   "outputs": [
    {
     "data": {
      "text/plain": [
       "<matplotlib.image.AxesImage at 0x2795d32d288>"
      ]
     },
     "execution_count": 5,
     "metadata": {},
     "output_type": "execute_result"
    },
    {
     "data": {
      "image/png": "[encoded data removed]",
      "text/plain": [
       "<Figure size 432x288 with 1 Axes>"
      ]
     },
     "metadata": {
      "needs_background": "light"
     },
     "output_type": "display_data"
    }
   ],
   "source": [
    "ensemble = EnsembleStickerCube(randomize_representation = True)\n",
    "ensemble(scramble)\n",
    "ensemble2 = EnsembleStickerCube()\n",
    "ensemble2(scramble)\n",
    "plt.imshow(ensemble.visualize())"
   ]
  },
  {
   "cell_type": "code",
   "execution_count": 6,
   "metadata": {},
   "outputs": [
    {
     "data": {
      "text/plain": [
       "<matplotlib.image.AxesImage at 0x2795d433188>"
      ]
     },
     "execution_count": 6,
     "metadata": {},
     "output_type": "execute_result"
    },
    {
     "data": {
      "image/png": "[encoded data removed]",
      "text/plain": [
       "<Figure size 432x288 with 1 Axes>"
      ]
     },
     "metadata": {
      "needs_background": "light"
     },
     "output_type": "display_data"
    }
   ],
   "source": [
    "x = ensemble.visualize()\n",
    "y = ensemble2.visualize()\n",
    "z = np.hstack([x,y])\n",
    "plt.imshow(z)"
   ]
  },
  {
   "cell_type": "code",
   "execution_count": 10,
   "metadata": {},
   "outputs": [
    {
     "data": {
      "text/plain": [
       "<matplotlib.image.AxesImage at 0x2795d59b648>"
      ]
     },
     "execution_count": 10,
     "metadata": {},
     "output_type": "execute_result"
    },
    {
     "data": {
      "image/png": "[encoded data removed]",
      "text/plain": [
       "<Figure size 432x288 with 1 Axes>"
      ]
     },
     "metadata": {
      "needs_background": "light"
     },
     "output_type": "display_data"
    }
   ],
   "source": [
    "ensemble.reset()\n",
    "ensemble2.reset()\n",
    "ensemble(scramble2)\n",
    "ensemble2(scramble2)\n",
    "x = ensemble.visualize()\n",
    "y = ensemble.visualize()\n",
    "z = np.hstack([x,y])\n",
    "plt.imshow(x)"
   ]
  },
  {
   "cell_type": "code",
   "execution_count": 22,
   "metadata": {},
   "outputs": [
    {
     "data": {
      "text/plain": [
       "<matplotlib.image.AxesImage at 0x2795d977348>"
      ]
     },
     "execution_count": 22,
     "metadata": {},
     "output_type": "execute_result"
    },
    {
     "data": {
      "image/png": "[encoded data removed]",
      "text/plain": [
       "<Figure size 432x288 with 1 Axes>"
      ]
     },
     "metadata": {
      "needs_background": "light"
     },
     "output_type": "display_data"
    }
   ],
   "source": [
    "ensemble.reset()\n",
    "ensemble2.reset()\n",
    "ensemble(scramble8)\n",
    "ensemble2(scramble8)\n",
    "x = ensemble.visualize()\n",
    "y = ensemble.visualize()\n",
    "z = np.hstack([x,y])\n",
    "plt.imshow(y)"
   ]
  },
  {
   "cell_type": "code",
   "execution_count": 9,
   "metadata": {},
   "outputs": [
    {
     "name": "stdout",
     "output_type": "stream",
     "text": [
      "False\n",
      "False\n",
      "True\n",
      "True\n"
     ]
    }
   ],
   "source": [
    "print(ensemble.is_solved())\n",
    "print(ensemble2.is_solved())\n",
    "ensemble.reset()\n",
    "ensemble2.reset()\n",
    "print(ensemble.is_solved())\n",
    "print(ensemble2.is_solved())"
   ]
  },
  {
   "cell_type": "code",
   "execution_count": null,
   "metadata": {},
   "outputs": [],
   "source": []
  }
 ],
 "metadata": {
  "kernelspec": {
   "display_name": "Python 3",
   "language": "python",
   "name": "python3"
  },
  "language_info": {
   "codemirror_mode": {
    "name": "ipython",
    "version": 3
   },
   "file_extension": ".py",
   "mimetype": "text/x-python",
   "name": "python",
   "nbconvert_exporter": "python",
   "pygments_lexer": "ipython3",
   "version": "3.7.6"
  }
 },
 "nbformat": 4,
 "nbformat_minor": 4
}
